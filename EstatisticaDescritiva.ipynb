{
  "nbformat": 4,
  "nbformat_minor": 0,
  "metadata": {
    "colab": {
      "provenance": []
    },
    "kernelspec": {
      "name": "python3",
      "display_name": "Python 3"
    },
    "language_info": {
      "name": "python"
    }
  },
  "cells": [
    {
      "cell_type": "code",
      "execution_count": 1,
      "metadata": {
        "id": "dO1v9tmUay4f"
      },
      "outputs": [],
      "source": [
        "import numpy as np\n",
        "import pandas as pd"
      ]
    },
    {
      "cell_type": "markdown",
      "source": [
        "##Construção de uma distribuição de frequência\n"
      ],
      "metadata": {
        "id": "5Wg7U91dgyCp"
      }
    },
    {
      "cell_type": "code",
      "source": [
        "dados = [24,23,22,28,35,21,23,33,34,24,21,25,36,26,22,30,32,25,26,33,34,21,31,25,31,26,25,35,33,31]"
      ],
      "metadata": {
        "id": "wAvjQ-FAd79d"
      },
      "execution_count": 2,
      "outputs": []
    },
    {
      "cell_type": "markdown",
      "source": [
        "##Ordenação dos números"
      ],
      "metadata": {
        "id": "CXrtQ6vqiEoJ"
      }
    },
    {
      "cell_type": "code",
      "source": [
        "np.sort(dados)"
      ],
      "metadata": {
        "colab": {
          "base_uri": "https://localhost:8080/"
        },
        "id": "l8KQuoBciLi6",
        "outputId": "ed401bb5-6fe7-4a01-fa41-0a254583890a"
      },
      "execution_count": 3,
      "outputs": [
        {
          "output_type": "execute_result",
          "data": {
            "text/plain": [
              "array([21, 21, 21, 22, 22, 23, 23, 24, 24, 25, 25, 25, 25, 26, 26, 26, 28,\n",
              "       30, 31, 31, 31, 32, 33, 33, 33, 34, 34, 35, 35, 36])"
            ]
          },
          "metadata": {},
          "execution_count": 3
        }
      ]
    },
    {
      "cell_type": "markdown",
      "source": [
        "##Amplitude Total"
      ],
      "metadata": {
        "id": "uuKvwP5tjPzw"
      }
    },
    {
      "cell_type": "code",
      "source": [
        "Ampli = np.max(dados) - np.min(dados); Ampli"
      ],
      "metadata": {
        "colab": {
          "base_uri": "https://localhost:8080/"
        },
        "id": "GnKhsO-njSaU",
        "outputId": "63de0cba-adcc-4b4a-f0cc-35697f487a23"
      },
      "execution_count": 4,
      "outputs": [
        {
          "output_type": "execute_result",
          "data": {
            "text/plain": [
              "15"
            ]
          },
          "metadata": {},
          "execution_count": 4
        }
      ]
    },
    {
      "cell_type": "markdown",
      "source": [
        "##Tamanho Amostral"
      ],
      "metadata": {
        "id": "xa8XYVt2wePq"
      }
    },
    {
      "cell_type": "code",
      "source": [
        "n = len(dados); n\n"
      ],
      "metadata": {
        "colab": {
          "base_uri": "https://localhost:8080/"
        },
        "id": "GtrS0P90wjTt",
        "outputId": "6e5f5648-15c5-4f71-f23e-71571022adf0"
      },
      "execution_count": 8,
      "outputs": [
        {
          "output_type": "execute_result",
          "data": {
            "text/plain": [
              "30"
            ]
          },
          "metadata": {},
          "execution_count": 8
        }
      ]
    },
    {
      "cell_type": "markdown",
      "source": [
        "##Número de classes fórmula de Sturges\n"
      ],
      "metadata": {
        "id": "zGYhanuXxCr5"
      }
    },
    {
      "cell_type": "code",
      "source": [
        "NFS = np.ceil( 1 + 3.22*np.log10(n)); NFS"
      ],
      "metadata": {
        "colab": {
          "base_uri": "https://localhost:8080/"
        },
        "id": "kUjtr3aCxl4l",
        "outputId": "0ef56e55-0cf7-4bf4-e358-1d8794e3670c"
      },
      "execution_count": 10,
      "outputs": [
        {
          "output_type": "execute_result",
          "data": {
            "text/plain": [
              "6.0"
            ]
          },
          "metadata": {},
          "execution_count": 10
        }
      ]
    },
    {
      "cell_type": "markdown",
      "source": [
        "##Amplitude das Classes"
      ],
      "metadata": {
        "id": "QuXn0jIRyDCH"
      }
    },
    {
      "cell_type": "code",
      "source": [
        "h = np.ceil(Ampli/NFS); h"
      ],
      "metadata": {
        "colab": {
          "base_uri": "https://localhost:8080/"
        },
        "id": "KQ06dbFQyEn2",
        "outputId": "eacc1316-a091-4cf6-bb5a-90a929e24a21"
      },
      "execution_count": 12,
      "outputs": [
        {
          "output_type": "execute_result",
          "data": {
            "text/plain": [
              "3.0"
            ]
          },
          "metadata": {},
          "execution_count": 12
        }
      ]
    },
    {
      "cell_type": "markdown",
      "source": [
        "##Limites das Classes"
      ],
      "metadata": {
        "id": "7Fu7t_98yY98"
      }
    },
    {
      "cell_type": "code",
      "source": [
        "bins = [np.min(dados) + i*h.astype('int') for i in range(NFS.astype('int')+1)]; bins"
      ],
      "metadata": {
        "colab": {
          "base_uri": "https://localhost:8080/"
        },
        "id": "jHY8MEOwyi9n",
        "outputId": "45dc2bed-3b0b-4831-be5c-3c751e49b988"
      },
      "execution_count": 14,
      "outputs": [
        {
          "output_type": "execute_result",
          "data": {
            "text/plain": [
              "[21, 24, 27, 30, 33, 36, 39]"
            ]
          },
          "metadata": {},
          "execution_count": 14
        }
      ]
    },
    {
      "cell_type": "markdown",
      "source": [
        "##Frequência dos Dados"
      ],
      "metadata": {
        "id": "kydKrXXcyxW1"
      }
    },
    {
      "cell_type": "code",
      "source": [
        "pd.cut(dados, bins=bins, right=False).value_counts()"
      ],
      "metadata": {
        "colab": {
          "base_uri": "https://localhost:8080/"
        },
        "id": "KfnCWTPhyzwR",
        "outputId": "a4271e02-bf3e-49dd-e30c-fb1f92a0cc8a"
      },
      "execution_count": 15,
      "outputs": [
        {
          "output_type": "execute_result",
          "data": {
            "text/plain": [
              "[21, 24)    7\n",
              "[24, 27)    9\n",
              "[27, 30)    1\n",
              "[30, 33)    5\n",
              "[33, 36)    7\n",
              "[36, 39)    1\n",
              "dtype: int64"
            ]
          },
          "metadata": {},
          "execution_count": 15
        }
      ]
    },
    {
      "cell_type": "markdown",
      "source": [],
      "metadata": {
        "id": "AGo0TG62zBoe"
      }
    }
  ]
}